{
 "cells": [
  {
   "cell_type": "markdown",
   "metadata": {},
   "source": [
    "# Rotten Tomatoes\n",
    "## Top Box Office"
   ]
  },
  {
   "cell_type": "code",
   "execution_count": 1,
   "metadata": {},
   "outputs": [],
   "source": [
    "import requests\n",
    "import re\n",
    "from bs4 import BeautifulSoup"
   ]
  },
  {
   "cell_type": "code",
   "execution_count": 2,
   "metadata": {},
   "outputs": [],
   "source": [
    "url= requests.get(\"https://www.rottentomatoes.com/\")\n",
    "soup = BeautifulSoup(url.text,'html.parser')"
   ]
  },
  {
   "cell_type": "code",
   "execution_count": 3,
   "metadata": {},
   "outputs": [],
   "source": [
    "top_box_office= [w for w in soup.findAll('table',id=\"Top-Box-Office\" ) ][0]"
   ]
  },
  {
   "cell_type": "code",
   "execution_count": 4,
   "metadata": {},
   "outputs": [
    {
     "data": {
      "text/plain": [
       "['Star Wars: The Last Jedi',\n",
       " 'Jumanji: Welcome to the Jungle',\n",
       " 'Pitch Perfect 3',\n",
       " 'The Greatest Showman',\n",
       " 'Ferdinand',\n",
       " 'Coco',\n",
       " 'Downsizing',\n",
       " 'Darkest Hour',\n",
       " 'Father Figures',\n",
       " 'The Shape of Water']"
      ]
     },
     "execution_count": 4,
     "metadata": {},
     "output_type": "execute_result"
    }
   ],
   "source": [
    "movies_name =[w.text.replace('\\n','') for w in top_box_office.findAll(\"td\", \"middle_col\") if w.text]\n",
    "movies_name"
   ]
  },
  {
   "cell_type": "code",
   "execution_count": 5,
   "metadata": {},
   "outputs": [
    {
     "data": {
      "text/plain": [
       "['91%', '78%', '30%', '52%', '72%', '97%', '51%', '84%', '22%', '93%']"
      ]
     },
     "execution_count": 5,
     "metadata": {},
     "output_type": "execute_result"
    }
   ],
   "source": [
    "rating =[w.text for w in top_box_office.findAll(\"span\") if w.text]\n",
    "rating"
   ]
  },
  {
   "cell_type": "code",
   "execution_count": 6,
   "metadata": {},
   "outputs": [],
   "source": [
    "#column=[]\n",
    "#if top_box_office.find('span').next_sibling:\n",
    "#    column.append(top_box_office.findAll('span')[1][\"class\"][0])    \n",
    "#column"
   ]
  },
  {
   "cell_type": "code",
   "execution_count": 7,
   "metadata": {},
   "outputs": [
    {
     "name": "stdout",
     "output_type": "stream",
     "text": [
      "['$101M', '$52.2M', '$25.6M', '$14.1M', '$9.8M', '$7.5M', '$7.3M', '$5.5M', '$5M', '$4.3M']\n"
     ]
    }
   ],
   "source": [
    "earnings=[t.text.replace(\"\\n\",'') for t in top_box_office.findAll(\"td\",\"right_col right\") if t.text]\n",
    "for i in range(len(earnings)):\n",
    "    earnings[i]=re.sub(r'\\s+', '', earnings[i])\n",
    "print (earnings)"
   ]
  },
  {
   "cell_type": "code",
   "execution_count": 8,
   "metadata": {},
   "outputs": [],
   "source": [
    "import pandas as pd"
   ]
  },
  {
   "cell_type": "code",
   "execution_count": 9,
   "metadata": {},
   "outputs": [
    {
     "data": {
      "text/html": [
       "<div>\n",
       "<style scoped>\n",
       "    .dataframe tbody tr th:only-of-type {\n",
       "        vertical-align: middle;\n",
       "    }\n",
       "\n",
       "    .dataframe tbody tr th {\n",
       "        vertical-align: top;\n",
       "    }\n",
       "\n",
       "    .dataframe thead th {\n",
       "        text-align: right;\n",
       "    }\n",
       "</style>\n",
       "<table border=\"1\" class=\"dataframe\">\n",
       "  <thead>\n",
       "    <tr style=\"text-align: right;\">\n",
       "      <th></th>\n",
       "      <th>0</th>\n",
       "      <th>1</th>\n",
       "    </tr>\n",
       "  </thead>\n",
       "  <tbody>\n",
       "    <tr>\n",
       "      <th>91%</th>\n",
       "      <td>Star Wars: The Last Jedi</td>\n",
       "      <td>$101M</td>\n",
       "    </tr>\n",
       "    <tr>\n",
       "      <th>78%</th>\n",
       "      <td>Jumanji: Welcome to the Jungle</td>\n",
       "      <td>$52.2M</td>\n",
       "    </tr>\n",
       "    <tr>\n",
       "      <th>30%</th>\n",
       "      <td>Pitch Perfect 3</td>\n",
       "      <td>$25.6M</td>\n",
       "    </tr>\n",
       "    <tr>\n",
       "      <th>52%</th>\n",
       "      <td>The Greatest Showman</td>\n",
       "      <td>$14.1M</td>\n",
       "    </tr>\n",
       "    <tr>\n",
       "      <th>72%</th>\n",
       "      <td>Ferdinand</td>\n",
       "      <td>$9.8M</td>\n",
       "    </tr>\n",
       "    <tr>\n",
       "      <th>97%</th>\n",
       "      <td>Coco</td>\n",
       "      <td>$7.5M</td>\n",
       "    </tr>\n",
       "    <tr>\n",
       "      <th>51%</th>\n",
       "      <td>Downsizing</td>\n",
       "      <td>$7.3M</td>\n",
       "    </tr>\n",
       "    <tr>\n",
       "      <th>84%</th>\n",
       "      <td>Darkest Hour</td>\n",
       "      <td>$5.5M</td>\n",
       "    </tr>\n",
       "    <tr>\n",
       "      <th>22%</th>\n",
       "      <td>Father Figures</td>\n",
       "      <td>$5M</td>\n",
       "    </tr>\n",
       "    <tr>\n",
       "      <th>93%</th>\n",
       "      <td>The Shape of Water</td>\n",
       "      <td>$4.3M</td>\n",
       "    </tr>\n",
       "  </tbody>\n",
       "</table>\n",
       "</div>"
      ],
      "text/plain": [
       "                                  0       1\n",
       "91%        Star Wars: The Last Jedi   $101M\n",
       "78%  Jumanji: Welcome to the Jungle  $52.2M\n",
       "30%                 Pitch Perfect 3  $25.6M\n",
       "52%            The Greatest Showman  $14.1M\n",
       "72%                       Ferdinand   $9.8M\n",
       "97%                            Coco   $7.5M\n",
       "51%                      Downsizing   $7.3M\n",
       "84%                    Darkest Hour   $5.5M\n",
       "22%                  Father Figures     $5M\n",
       "93%              The Shape of Water   $4.3M"
      ]
     },
     "execution_count": 9,
     "metadata": {},
     "output_type": "execute_result"
    }
   ],
   "source": [
    "Top_Box_Office= pd.DataFrame(list(zip(movies_name,earnings)), index= rating)\n",
    "Top_Box_Office"
   ]
  },
  {
   "cell_type": "markdown",
   "metadata": {},
   "source": [
    "### With heading"
   ]
  },
  {
   "cell_type": "code",
   "execution_count": 10,
   "metadata": {},
   "outputs": [
    {
     "data": {
      "text/plain": [
       "[('Star Wars: The Last Jedi', '$101M'),\n",
       " ('Jumanji: Welcome to the Jungle', '$52.2M'),\n",
       " ('Pitch Perfect 3', '$25.6M'),\n",
       " ('The Greatest Showman', '$14.1M'),\n",
       " ('Ferdinand', '$9.8M'),\n",
       " ('Coco', '$7.5M'),\n",
       " ('Downsizing', '$7.3M'),\n",
       " ('Darkest Hour', '$5.5M'),\n",
       " ('Father Figures', '$5M'),\n",
       " ('The Shape of Water', '$4.3M')]"
      ]
     },
     "execution_count": 10,
     "metadata": {},
     "output_type": "execute_result"
    }
   ],
   "source": [
    "Rating_Earning=list(zip(movies_name,earnings))\n",
    "Rating_Earning"
   ]
  },
  {
   "cell_type": "code",
   "execution_count": 11,
   "metadata": {},
   "outputs": [],
   "source": [
    "columns_name=['Movies','Earning']\n",
    "column3= [movies_name,earnings]"
   ]
  },
  {
   "cell_type": "code",
   "execution_count": 12,
   "metadata": {},
   "outputs": [],
   "source": [
    "columns1= {col: val for col,val in (zip(columns_name,column3))}"
   ]
  },
  {
   "cell_type": "code",
   "execution_count": 13,
   "metadata": {},
   "outputs": [],
   "source": [
    "Top_Box_Office1= pd.DataFrame(columns1, index= rating)"
   ]
  },
  {
   "cell_type": "code",
   "execution_count": 14,
   "metadata": {},
   "outputs": [
    {
     "data": {
      "text/html": [
       "<div>\n",
       "<style scoped>\n",
       "    .dataframe tbody tr th:only-of-type {\n",
       "        vertical-align: middle;\n",
       "    }\n",
       "\n",
       "    .dataframe tbody tr th {\n",
       "        vertical-align: top;\n",
       "    }\n",
       "\n",
       "    .dataframe thead th {\n",
       "        text-align: right;\n",
       "    }\n",
       "</style>\n",
       "<table border=\"1\" class=\"dataframe\">\n",
       "  <thead>\n",
       "    <tr style=\"text-align: right;\">\n",
       "      <th></th>\n",
       "      <th>Earning</th>\n",
       "      <th>Movies</th>\n",
       "    </tr>\n",
       "  </thead>\n",
       "  <tbody>\n",
       "    <tr>\n",
       "      <th>91%</th>\n",
       "      <td>$101M</td>\n",
       "      <td>Star Wars: The Last Jedi</td>\n",
       "    </tr>\n",
       "    <tr>\n",
       "      <th>78%</th>\n",
       "      <td>$52.2M</td>\n",
       "      <td>Jumanji: Welcome to the Jungle</td>\n",
       "    </tr>\n",
       "    <tr>\n",
       "      <th>30%</th>\n",
       "      <td>$25.6M</td>\n",
       "      <td>Pitch Perfect 3</td>\n",
       "    </tr>\n",
       "    <tr>\n",
       "      <th>52%</th>\n",
       "      <td>$14.1M</td>\n",
       "      <td>The Greatest Showman</td>\n",
       "    </tr>\n",
       "    <tr>\n",
       "      <th>72%</th>\n",
       "      <td>$9.8M</td>\n",
       "      <td>Ferdinand</td>\n",
       "    </tr>\n",
       "    <tr>\n",
       "      <th>97%</th>\n",
       "      <td>$7.5M</td>\n",
       "      <td>Coco</td>\n",
       "    </tr>\n",
       "    <tr>\n",
       "      <th>51%</th>\n",
       "      <td>$7.3M</td>\n",
       "      <td>Downsizing</td>\n",
       "    </tr>\n",
       "    <tr>\n",
       "      <th>84%</th>\n",
       "      <td>$5.5M</td>\n",
       "      <td>Darkest Hour</td>\n",
       "    </tr>\n",
       "    <tr>\n",
       "      <th>22%</th>\n",
       "      <td>$5M</td>\n",
       "      <td>Father Figures</td>\n",
       "    </tr>\n",
       "    <tr>\n",
       "      <th>93%</th>\n",
       "      <td>$4.3M</td>\n",
       "      <td>The Shape of Water</td>\n",
       "    </tr>\n",
       "  </tbody>\n",
       "</table>\n",
       "</div>"
      ],
      "text/plain": [
       "    Earning                          Movies\n",
       "91%   $101M        Star Wars: The Last Jedi\n",
       "78%  $52.2M  Jumanji: Welcome to the Jungle\n",
       "30%  $25.6M                 Pitch Perfect 3\n",
       "52%  $14.1M            The Greatest Showman\n",
       "72%   $9.8M                       Ferdinand\n",
       "97%   $7.5M                            Coco\n",
       "51%   $7.3M                      Downsizing\n",
       "84%   $5.5M                    Darkest Hour\n",
       "22%     $5M                  Father Figures\n",
       "93%   $4.3M              The Shape of Water"
      ]
     },
     "execution_count": 14,
     "metadata": {},
     "output_type": "execute_result"
    }
   ],
   "source": [
    "Top_Box_Office1"
   ]
  },
  {
   "cell_type": "markdown",
   "metadata": {},
   "source": [
    "# Times of India \n",
    "## India In Today's Headline"
   ]
  },
  {
   "cell_type": "code",
   "execution_count": 15,
   "metadata": {},
   "outputs": [],
   "source": [
    "page1 = requests.get(\"https://timesofindia.indiatimes.com/india\")\n",
    "soup1 = BeautifulSoup(page1.text, 'html.parser')"
   ]
  },
  {
   "cell_type": "code",
   "execution_count": 16,
   "metadata": {},
   "outputs": [],
   "source": [
    "link= [w for w in soup1.findAll(\"ul\",\"list5 clearfix\")]"
   ]
  },
  {
   "cell_type": "code",
   "execution_count": 17,
   "metadata": {},
   "outputs": [],
   "source": [
    "Today_headlines_of_India=[]\n",
    "for i in range(len(link)):\n",
    "    for w in link[i].findAll('a'):\n",
    "        if w.text:\n",
    "            Today_headlines_of_India.append(w.text)"
   ]
  },
  {
   "cell_type": "code",
   "execution_count": 18,
   "metadata": {},
   "outputs": [
    {
     "data": {
      "text/plain": [
       "['Registration of more than 23,000 NGOs not renewed since 2014',\n",
       " '486 Rohingyas in India on long-term visa, 40,000 residing illegally: Rijiju',\n",
       " 'Failure of railway staff top reason behind accidents: Railways',\n",
       " \"Kulbhushan Jadhav's wife, mother depressed after what happened in Pakistan, says family\",\n",
       " '183 women killed in Jharkhand in last 4 years over witchcraft allegations',\n",
       " 'Parl Standing Committee members differ on discussing Aadhaar',\n",
       " 'Govt eyes 100% electric public transport through FAME II',\n",
       " \"Thank you, 'Mr Jaitlie': Rahul Gandhi's stinging comeback\",\n",
       " 'Over 3,000 trains delayed due to fog in November and December: Railways',\n",
       " 'CBI techie arrested for subverting rail ticketing system',\n",
       " \"PM Modi does not question Manmohan Singh's integrity, Arun Jaitley tells RS to end stalemate\",\n",
       " 'No separate data on children killed or raped in schools: Govt',\n",
       " \"Jadhav-family meet: Pakistan restrictions 'inhuman', says Vice President Naidu\",\n",
       " \"Nepal rejects India's offer to jointly remeasure Mt Everest\",\n",
       " \"'418 armed forces personnel committed suicide in last 4 yrs'\",\n",
       " 'BJP leader moves court seeking sedition case against Mani Shankar Aiyar',\n",
       " 'Bamboo not a tree: Parliament passes bill amending Forest Act',\n",
       " \"Can't change India's mentality on OBOR, but doors of cooperation open: Chinese media\",\n",
       " 'Yogi Adityanath to get relief as his govt moves to withdraw 22-yr-old case against him',\n",
       " \"Tibet earthquake caused Brahmaputra's turbidity: China\",\n",
       " \"CPEC's extension to Afghanistan not directed against India: China\",\n",
       " 'People have clearly understood the 2G case verdict: Raja',\n",
       " 'Triple talaq bill unacceptable if against Quran: AIMWPLB',\n",
       " 'No proposal to increase fares: Railways',\n",
       " 'Over 4.5 lakh Indians acquired foreign citizenship since 2014: Govt',\n",
       " \"Today's Google Doodle remembers Mirza Ghalib on his 220th birthday\",\n",
       " 'Hegde should apologize or be sacked: opposition parties',\n",
       " 'Why this place in Shimla is special to PM Modi',\n",
       " '20 TN fishermen released by Lankan govt, repatriated',\n",
       " \"'BJD does not face any anti-incumbency'\",\n",
       " 'LS adjourns twice amid vociferous Oppn protests',\n",
       " \"'PM Modi didn't mean to question Manmohan Singh's commitment to India,' says BJP's Arun Jaitley in RS\",\n",
       " \"Congress slams government for 'botched' Jadhav meet, calls it 'diplomatic failure'\",\n",
       " \"BJP calls this man 'Santa', while Congress calls him 'Bad Santa'\",\n",
       " \"Opposition disrupts Rajya Sabha proceedings over Hegde's remarks\",\n",
       " 'Jai Ram Thakur takes oath as new Himachal CM',\n",
       " \"SP leader courts controversy on  Kulbhushan Jadhav issue, BJP calls it 'betrayal of national interest'\",\n",
       " \"'Splitting Pak into 4 parts is the only permanent solution,' says Subramanian Swamy\",\n",
       " 'Rahul Gandhi to decide my future role in party: Ahmed Patel',\n",
       " \"'There was something in her shoes,' says Pakistan about confiscating footwear of Jadhav's wife\",\n",
       " 'VOIP exchanges used by ISI busted in Andhra Pradesh, seven held',\n",
       " \"PM Modi, Amit Shah to be present at Jai Ram Thakur's oath ceremony today\",\n",
       " 'Minister talks about change in Constitution, faces threat',\n",
       " 'Triple talaq bill: Activists seek more talks before draft becomes law',\n",
       " 'Showdown likely as opposition opposes penal provisions of instant talaq bill',\n",
       " 'Foreigner or citizen? Assam finds out at stroke of midnight on Dec 31',\n",
       " '‘Only soft posting’: CRPF wants to retain VIP duty',\n",
       " '20-member Team Vijay Rupani begins 2nd innings in Gujarat',\n",
       " 'Deputy CM: Not in Constitution, yet a post with a long history',\n",
       " '18 of 20 ministers in new Gujarat cabinet crorepatis: Study']"
      ]
     },
     "execution_count": 18,
     "metadata": {},
     "output_type": "execute_result"
    }
   ],
   "source": [
    "Today_headlines_of_India"
   ]
  }
 ],
 "metadata": {
  "kernelspec": {
   "display_name": "Python 3",
   "language": "python",
   "name": "python3"
  },
  "language_info": {
   "codemirror_mode": {
    "name": "ipython",
    "version": 3
   },
   "file_extension": ".py",
   "mimetype": "text/x-python",
   "name": "python",
   "nbconvert_exporter": "python",
   "pygments_lexer": "ipython3",
   "version": "3.6.3"
  }
 },
 "nbformat": 4,
 "nbformat_minor": 2
}
